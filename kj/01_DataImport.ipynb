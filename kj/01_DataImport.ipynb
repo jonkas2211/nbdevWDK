{
 "cells": [
  {
   "cell_type": "code",
   "execution_count": 25,
   "outputs": [],
   "source": [
    "# exports\n",
    "import pandas as pd\n",
    "import json\n",
    "import pymongo\n",
    "\n",
    "\n",
    "def import_data_in_mongo(file, database, collection):\n",
    "    data = pd.read_csv(file)\n",
    "    data_json = json.loads(data.to_json(orient='records'))\n",
    "    client = pymongo.MongoClient('localhost', 27017)\n",
    "    db = client[database]\n",
    "    db.authenticate('root', 'root', 'admin')\n",
    "    collection = db[collection]\n",
    "    collection.delete_many({})\n",
    "    collection.insert_many(data_json)"
   ],
   "metadata": {
    "collapsed": false,
    "pycharm": {
     "name": "#%%\n"
    }
   }
  },
  {
   "cell_type": "code",
   "execution_count": 29,
   "outputs": [],
   "source": [
    "import_data_in_mongo('../rawData/DAX 20180101-20191231.csv', 'preCovid', 'DAX')\n"
   ],
   "metadata": {
    "collapsed": false,
    "pycharm": {
     "name": "#%%\n"
    }
   }
  },
  {
   "cell_type": "code",
   "execution_count": 30,
   "outputs": [],
   "source": [
    "import_data_in_mongo('../rawData/DAX 20200101-20210501.csv', 'inCovid', 'DAX')"
   ],
   "metadata": {
    "collapsed": false,
    "pycharm": {
     "name": "#%%\n"
    }
   }
  },
  {
   "cell_type": "code",
   "execution_count": null,
   "outputs": [],
   "source": [],
   "metadata": {
    "collapsed": false,
    "pycharm": {
     "name": "#%%\n"
    }
   }
  }
 ],
 "metadata": {
  "kernelspec": {
   "display_name": "Python 3",
   "language": "python",
   "name": "python3"
  },
  "language_info": {
   "codemirror_mode": {
    "name": "ipython",
    "version": 2
   },
   "file_extension": ".py",
   "mimetype": "text/x-python",
   "name": "python",
   "nbconvert_exporter": "python",
   "pygments_lexer": "ipython2",
   "version": "2.7.6"
  }
 },
 "nbformat": 4,
 "nbformat_minor": 0
}