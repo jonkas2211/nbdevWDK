{
 "cells": [
  {
   "cell_type": "code",
   "execution_count": 1,
   "id": "limited-membership",
   "metadata": {},
   "outputs": [],
   "source": [
    "#hide\n",
    "%load_ext autoreload\n",
    "%autoreload 2"
   ]
  },
  {
   "cell_type": "code",
   "execution_count": null,
   "id": "remarkable-storage",
   "metadata": {},
   "outputs": [],
   "source": [
    "#hide\n",
    "from nbdev.showdoc import *\n",
    "from IPython.display import Markdown,display"
   ]
  },
  {
   "cell_type": "markdown",
   "id": "handed-accident",
   "metadata": {},
   "source": [
    "# Beispielhafte Modulverwendung"
   ]
  },
  {
   "cell_type": "code",
   "execution_count": null,
   "id": "wooden-banner",
   "metadata": {},
   "outputs": [
    {
     "name": "stderr",
     "output_type": "stream",
     "text": [
      "/Users/uli/.pyenv/versions/3.7.9/envs/nb2ltx/lib/python3.7/site-packages/pandas/compat/__init__.py:97: UserWarning: Could not import the lzma module. Your installed Python is incomplete. Attempting to use lzma compression will result in a RuntimeError.\n",
      "  warnings.warn(msg)\n"
     ]
    }
   ],
   "source": [
    "import nb2ltx.klauswert as klw\n",
    "import pandas as pd\n",
    "import matplotlib.pyplot as plt"
   ]
  },
  {
   "cell_type": "markdown",
   "id": "shaped-sheffield",
   "metadata": {},
   "source": [
    "## Daten laden"
   ]
  },
  {
   "cell_type": "code",
   "execution_count": null,
   "id": "correct-cycle",
   "metadata": {},
   "outputs": [],
   "source": [
    "pbx2020 = klw.Klauswert('rawData/KlausurPunkte.xlsx')"
   ]
  },
  {
   "cell_type": "markdown",
   "id": "upset-metadata",
   "metadata": {},
   "source": [
    "## Notenliste erzeugen\n",
    "Erst die Daten erzeugen und dann ein Histogramm zeichnen."
   ]
  },
  {
   "cell_type": "code",
   "execution_count": null,
   "id": "moral-conditioning",
   "metadata": {},
   "outputs": [
    {
     "name": "stdout",
     "output_type": "stream",
     "text": [
      "|    | Name        |   Note |\n",
      "|---:|:------------|-------:|\n",
      "|  0 | Alexander   |    3   |\n",
      "|  1 | Andre       |    3.3 |\n",
      "|  2 | Celine      |    3   |\n",
      "|  3 | Christian   |    3.7 |\n",
      "|  4 | Christopher |    5   |\n"
     ]
    }
   ],
   "source": [
    "#hide_output\n",
    "nListe = pbx2020.getNoten()\n",
    "print(nListe.head().to_markdown())"
   ]
  },
  {
   "cell_type": "markdown",
   "id": "processed-chassis",
   "metadata": {},
   "source": [
    "|    | Name        |   Note |\n",
    "|---:|:------------|-------:|\n",
    "|  0 | Alexander   |    3   |\n",
    "|  1 | Andre       |    3.3 |\n",
    "|  2 | Celine      |    3   |\n",
    "|  3 | Christian   |    3.7 |\n",
    "|  4 | Christopher |    5   |"
   ]
  },
  {
   "cell_type": "code",
   "execution_count": null,
   "id": "employed-enlargement",
   "metadata": {},
   "outputs": [
    {
     "data": {
      "text/plain": [
       "0     1.0\n",
       "1     1.3\n",
       "2     1.7\n",
       "3     2.0\n",
       "4     2.3\n",
       "5     2.7\n",
       "6     3.0\n",
       "7     3.3\n",
       "8     3.7\n",
       "9     4.0\n",
       "10    5.0\n",
       "Name: Note, dtype: float64"
      ]
     },
     "execution_count": null,
     "metadata": {},
     "output_type": "execute_result"
    }
   ],
   "source": [
    "notenBuckets = pbx2020.getNotenDefinition()['Note']\n",
    "notenBuckets"
   ]
  },
  {
   "cell_type": "code",
   "execution_count": null,
   "id": "attractive-flood",
   "metadata": {},
   "outputs": [
    {
     "data": {
      "text/markdown": [
       "|    |   Note |   Anzahl |\n",
       "|---:|-------:|---------:|\n",
       "|  0 |    1   |        0 |\n",
       "|  1 |    1.3 |        0 |\n",
       "|  2 |    1.7 |        2 |\n",
       "|  3 |    2   |        0 |\n",
       "|  4 |    2.3 |        3 |\n",
       "|  5 |    2.7 |        0 |\n",
       "|  6 |    3   |        8 |\n",
       "|  7 |    3.3 |        2 |\n",
       "|  8 |    3.7 |        8 |\n",
       "|  9 |    4   |        8 |\n",
       "| 10 |    5   |        6 |"
      ],
      "text/plain": [
       "<IPython.core.display.Markdown object>"
      ]
     },
     "metadata": {},
     "output_type": "display_data"
    }
   ],
   "source": [
    "noList = []\n",
    "for note in notenBuckets:\n",
    "    noList.append({'Note': note, 'Anzahl': nListe[nListe['Note'] == note].count()[0]})\n",
    "\n",
    "notenVerteilung = pd.DataFrame(noList)\n",
    "display(Markdown(notenVerteilung.to_markdown()))"
   ]
  },
  {
   "cell_type": "markdown",
   "id": "matched-emission",
   "metadata": {},
   "source": [
    "## Graphische Darstellung der Notenverteilung"
   ]
  },
  {
   "cell_type": "code",
   "execution_count": null,
   "id": "assigned-spyware",
   "metadata": {},
   "outputs": [
    {
     "data": {
      "image/png": "[encoded data removed]",
      "text/plain": [
       "<Figure size 432x288 with 1 Axes>"
      ]
     },
     "metadata": {
      "needs_background": "light"
     },
     "output_type": "display_data"
    },
    {
     "data": {
      "text/plain": [
       "array([6., 4.])"
      ]
     },
     "execution_count": null,
     "metadata": {},
     "output_type": "execute_result"
    }
   ],
   "source": [
    "fig = plt.figure()\n",
    "ax = fig.add_axes([0,0,1,1])\n",
    "ax.bar(notenVerteilung['Note'], notenVerteilung['Anzahl'], 0.2)\n",
    "plt.xticks(notenVerteilung['Note'])\n",
    "plt.show()\n",
    "fig.get_size_inches()"
   ]
  },
  {
   "cell_type": "markdown",
   "id": "comparable-guide",
   "metadata": {},
   "source": [
    "Es geht auch etwas kleiner:"
   ]
  },
  {
   "cell_type": "code",
   "execution_count": null,
   "id": "severe-resident",
   "metadata": {},
   "outputs": [
    {
     "data": {
      "image/png": "[encoded data removed]",
      "text/plain": [
       "<Figure size 480x320.4 with 1 Axes>"
      ]
     },
     "metadata": {
      "needs_background": "light"
     },
     "output_type": "display_data"
    },
    {
     "data": {
      "text/plain": [
       "array([480. , 320.4])"
      ]
     },
     "execution_count": null,
     "metadata": {},
     "output_type": "execute_result"
    }
   ],
   "source": [
    "fig = plt.figure(figsize=(4, 2.67), dpi=120)\n",
    "ax = fig.add_axes([0,0,1,1])\n",
    "ax.bar(notenVerteilung['Note'], notenVerteilung['Anzahl'], 0.2)\n",
    "plt.xticks(notenVerteilung['Note'])\n",
    "plt.show()\n",
    "fig.get_size_inches()*fig.dpi"
   ]
  },
  {
   "cell_type": "code",
   "execution_count": null,
   "id": "married-zealand",
   "metadata": {},
   "outputs": [],
   "source": []
  }
 ],
 "metadata": {
  "kernelspec": {
   "display_name": "Python 3",
   "language": "python",
   "name": "python3"
  }
 },
 "nbformat": 4,
 "nbformat_minor": 5
}